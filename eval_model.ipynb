{
 "cells": [
  {
   "cell_type": "code",
   "execution_count": 1,
   "metadata": {},
   "outputs": [],
   "source": [
    "import matplotlib.pyplot as plt\n",
    "\n",
    "import torch\n",
    "\n",
    "from models.models import *\n",
    "from utils import *\n",
    "from tensor_utils import *\n",
    "\n",
    "\n",
    "from data.datasets import get_data, flatten_dataset\n",
    "from models.models import *\n",
    "from utils import *\n",
    "from tensor_utils import *\n",
    "\n",
    "from specmf.models import Graph\n",
    "\n",
    "torch.set_default_dtype(torch.float32)\n",
    "device = torch.device(\"cuda\" if torch.cuda.is_available() else \"cpu\")"
   ]
  },
  {
   "cell_type": "code",
   "execution_count": 2,
   "metadata": {},
   "outputs": [
    {
     "name": "stdout",
     "output_type": "stream",
     "text": [
      "data:\n",
      "  latent_dim: 50\n",
      "  n_samples: 50000\n",
      "  n_samples_graph: 5000\n",
      "model:\n",
      "  depth: 5\n",
      "  dropout: 0.1\n",
      "  hidden_units: 512\n",
      "  residual: true\n",
      "  time_embed_dim: 32\n",
      "training:\n",
      "  batch_size: 5000\n",
      "  learning_rate: 0.0002\n",
      "  log_interval: 100\n",
      "  num_epochs: 6000\n",
      "  reconstruction_loss_weight: 1.0\n",
      "  timesteps: 1000\n",
      "  weight_decay: 0.0\n",
      "\n"
     ]
    }
   ],
   "source": [
    "experiment_name = \"bouncy-banana-20250118085156\"\n",
    "\n",
    "model, optimizer, config = load_experiment(experiment_name)\n",
    "print(yaml.dump(config))"
   ]
  },
  {
   "cell_type": "code",
   "execution_count": 5,
   "metadata": {},
   "outputs": [],
   "source": [
    "data_config = config[\"data\"]\n",
    "data_name = data_config[\"data_name\"]\n",
    "n_samples = data_config[\"n_samples\"]\n",
    "n_samples_graph = data_config[\"n_samples_graph\"]\n",
    "latent_dim = data_config[\"latent_dim\"]\n",
    "\n",
    "training_config = config[\"training\"]\n",
    "num_epochs = training_config[\"num_epochs\"]\n",
    "batch_size = training_config[\"batch_size\"]\n",
    "learning_rate = training_config[\"learning_rate\"]\n",
    "weight_decay = training_config[\"weight_decay\"]\n",
    "timesteps = training_config[\"timesteps\"]\n",
    "log_interval = training_config[\"log_interval\"]\n",
    "reconstruction_loss_weight = training_config[\"reconstruction_loss_weight\"]\n",
    "\n",
    "model_config = config[\"model\"]\n",
    "time_embed_dim = model_config[\"time_embed_dim\"]\n",
    "hidden_units = model_config[\"hidden_units\"]\n",
    "depth = model_config[\"depth\"]\n",
    "dropout = model_config[\"dropout\"]\n",
    "residual = model_config[\"residual\"]"
   ]
  },
  {
   "cell_type": "code",
   "execution_count": 6,
   "metadata": {},
   "outputs": [
    {
     "name": "stdout",
     "output_type": "stream",
     "text": [
      "Loading MNIST dataset...\n",
      "Sampling 50000 images...\n"
     ]
    }
   ],
   "source": [
    "# Load data\n",
    "X = get_data(\n",
    "    data_name=data_name,\n",
    "    n_samples=n_samples,\n",
    ")\n",
    "\n",
    "X, shape_X = flatten_dataset(X, return_shape=True)\n",
    "\n",
    "_, dim1, dim2 = shape_X\n",
    "\n",
    "X_graph = X[:n_samples_graph]"
   ]
  },
  {
   "cell_type": "code",
   "execution_count": 7,
   "metadata": {},
   "outputs": [],
   "source": [
    "# Create the graph\n",
    "graph_config = {\n",
    "    'metric': 'euclidean',\n",
    "    'dist_space': 'ambient',\n",
    "    'method': 'full',\n",
    "    'corr_scale': None,\n",
    "    'k_adj': 11,\n",
    "    'p': 0.5,\n",
    "    'q': 0.5,\n",
    "}\n",
    "\n",
    "graph = Graph(\n",
    "    data=X_graph,\n",
    "    **graph_config,\n",
    ")\n",
    "\n",
    "# Compute graph laplacian and eigenvectors\n",
    "L = graph.graph_laplacian\n",
    "eigvals, eigvecs = graph.laplacian_eig()"
   ]
  },
  {
   "cell_type": "code",
   "execution_count": 8,
   "metadata": {},
   "outputs": [],
   "source": [
    "# Compute the embedding z\n",
    "Z_graph = eigvecs[:, :latent_dim]\n",
    "Z_graph = torch.tensor(Z_graph).float()\n",
    "\n",
    "# Compute linear encoder and decoder\n",
    "decoder = LinearEmbedding(X_graph.T @ Z_graph)\n",
    "encoder = LinearEmbedding(\n",
    "    compute_linear_transformation(X_graph.T, Z_graph.T)\n",
    ")"
   ]
  },
  {
   "cell_type": "code",
   "execution_count": 9,
   "metadata": {},
   "outputs": [],
   "source": [
    "Z = encoder(X)\n",
    "Z_norm, Z_mean, Z_std = normalize_tensor(Z)"
   ]
  },
  {
   "cell_type": "code",
   "execution_count": 10,
   "metadata": {},
   "outputs": [],
   "source": [
    "forward_diffusion = ForwardDiffusion(timesteps=timesteps).to(device)"
   ]
  },
  {
   "cell_type": "code",
   "execution_count": 11,
   "metadata": {},
   "outputs": [],
   "source": [
    "def sample(model, num_samples, timesteps):\n",
    "    model.eval()\n",
    "    with torch.no_grad():\n",
    "        # Start with Gaussian noise\n",
    "        z = torch.randn(num_samples, in_dim).to(device)\n",
    "        for t in reversed(range(timesteps)):\n",
    "            # Create a tensor for the current timestep\n",
    "            t_tensor = torch.full((z.size(0),), t, device=device, dtype=torch.long)\n",
    "            t_normalized = t_tensor / (timesteps - 1)  # Normalize time step\n",
    "\n",
    "            # Predict noise using the model\n",
    "            predicted_noise = model(z, t_normalized)\n",
    "\n",
    "            # Compute parameters for reverse diffusion\n",
    "            alpha_t = forward_diffusion.alphas[t]\n",
    "            alpha_hat_t = forward_diffusion.alpha_hat[t]\n",
    "            beta_t = forward_diffusion.betas[t]\n",
    "\n",
    "            # Reverse diffusion step\n",
    "            z = (1 / torch.sqrt(alpha_t)) * (\n",
    "                z - beta_t / torch.sqrt(1 - alpha_hat_t + 1e-8) * predicted_noise\n",
    "            )\n",
    "\n",
    "            # Add noise if not at the last step\n",
    "            if t > 0:\n",
    "                noise = torch.randn_like(z)\n",
    "                z += torch.sqrt(beta_t) * noise\n",
    "\n",
    "        return model.denormalize(z)"
   ]
  },
  {
   "cell_type": "code",
   "execution_count": 12,
   "metadata": {},
   "outputs": [
    {
     "data": {
      "image/png": "[encoded data removed]",
      "text/plain": [
       "<Figure size 500x400 with 2 Axes>"
      ]
     },
     "metadata": {},
     "output_type": "display_data"
    },
    {
     "data": {
      "image/png": "[encoded data removed]",
      "text/plain": [
       "<Figure size 500x400 with 2 Axes>"
      ]
     },
     "metadata": {},
     "output_type": "display_data"
    },
    {
     "data": {
      "image/png": "[encoded data removed]",
      "text/plain": [
       "<Figure size 500x400 with 2 Axes>"
      ]
     },
     "metadata": {},
     "output_type": "display_data"
    },
    {
     "data": {
      "image/png": "[encoded data removed]",
      "text/plain": [
       "<Figure size 500x400 with 2 Axes>"
      ]
     },
     "metadata": {},
     "output_type": "display_data"
    },
    {
     "data": {
      "image/png": "[encoded data removed]",
      "text/plain": [
       "<Figure size 500x400 with 2 Axes>"
      ]
     },
     "metadata": {},
     "output_type": "display_data"
    }
   ],
   "source": [
    "# Generate gaussian noise and denoise it to latent space embeddings z \n",
    "z_samples = sample(model, num_samples=5, timesteps=timesteps)\n",
    "\n",
    "# Decode the latent space embeddings z to the original space x\n",
    "x_samples = decoder(z_samples)\n",
    "\n",
    "for i in range(x_samples.shape[0]):\n",
    "    fig, ax = plt.subplots(1, 1, figsize=(5, 4))\n",
    "    plot = ax.imshow(x_samples[i, :].reshape(dim1, dim2), cmap=\"gray\",)\n",
    "    ax.axis(\"off\")\n",
    "    fig.colorbar(plot)\n"
   ]
  },
  {
   "cell_type": "code",
   "execution_count": null,
   "metadata": {},
   "outputs": [],
   "source": []
  }
 ],
 "metadata": {
  "kernelspec": {
   "display_name": "torch-env",
   "language": "python",
   "name": "python3"
  },
  "language_info": {
   "codemirror_mode": {
    "name": "ipython",
    "version": 3
   },
   "file_extension": ".py",
   "mimetype": "text/x-python",
   "name": "python",
   "nbconvert_exporter": "python",
   "pygments_lexer": "ipython3",
   "version": "3.12.7"
  }
 },
 "nbformat": 4,
 "nbformat_minor": 2
}
